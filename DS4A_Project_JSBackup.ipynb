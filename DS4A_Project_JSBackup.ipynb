{
  "nbformat": 4,
  "nbformat_minor": 0,
  "metadata": {
    "colab": {
      "name": "DS4A - Project.ipynb",
      "provenance": [],
      "collapsed_sections": [],
      "machine_shape": "hm"
    },
    "kernelspec": {
      "name": "python3",
      "display_name": "Python 3"
    }
  },
  "cells": [
    {
      "cell_type": "markdown",
      "metadata": {
        "id": "U75pXFy4LI-F",
        "colab_type": "text"
      },
      "source": [
        "# Imports"
      ]
    },
    {
      "cell_type": "code",
      "metadata": {
        "id": "d5lQBooddeuC",
        "colab_type": "code",
        "colab": {}
      },
      "source": [
        "import pandas as pd\n",
        "import folium  #needed for interactive map\n",
        "from folium.plugins import HeatMap\n",
        "import numpy as np\n",
        "from datetime import datetime\n",
        "import seaborn as sns\n",
        "import matplotlib.pyplot as plt\n",
        "  "
      ],
      "execution_count": 0,
      "outputs": []
    },
    {
      "cell_type": "markdown",
      "metadata": {
        "id": "ZflFRBkZLQZ7",
        "colab_type": "text"
      },
      "source": [
        "# Google Drive authorization"
      ]
    },
    {
      "cell_type": "code",
      "metadata": {
        "id": "15fcY-2FuDOo",
        "colab_type": "code",
        "colab": {}
      },
      "source": [
        "# Google Drive imports and authorization\n",
        "\n",
        "!pip install -U -q PyDrive\n",
        "from pydrive.auth import GoogleAuth\n",
        "from pydrive.drive import GoogleDrive\n",
        "from google.colab import auth\n",
        "from oauth2client.client import GoogleCredentials\n",
        "# Authenticate and create the PyDrive client.\n",
        "auth.authenticate_user()\n",
        "gauth = GoogleAuth()\n",
        "gauth.credentials = GoogleCredentials.get_application_default()\n",
        "drive = GoogleDrive(gauth)"
      ],
      "execution_count": 0,
      "outputs": []
    },
    {
      "cell_type": "markdown",
      "metadata": {
        "id": "QyweWnyYpGaJ",
        "colab_type": "text"
      },
      "source": [
        "# Loading CSV files into pandas"
      ]
    },
    {
      "cell_type": "code",
      "metadata": {
        "id": "35uqiQ1bm-zp",
        "colab_type": "code",
        "outputId": "d8eb9789-b9e3-4978-c060-ed273e4c005a",
        "colab": {
          "base_uri": "https://localhost:8080/",
          "height": 119
        }
      },
      "source": [
        "# creating csv files within colab environment\n",
        "\n",
        "file_list = drive.ListFile({'q': \"'1sK4TQCIdr6pyrmCKrfDEv8Z4GcM-1jD-' in parents and trashed=false\"}).GetList()\n",
        "for file1 in [f for f in file_list if f['title'].endswith('.csv')]:\n",
        "    print('title: %s, id: %s' % (file1['title'], file1['id']))\n",
        "    temp_file = drive.CreateFile({'id': file1['id']})\n",
        "    temp_file.GetContentFile(file1['title'])"
      ],
      "execution_count": 0,
      "outputs": [
        {
          "output_type": "stream",
          "text": [
            "title: geographic.csv, id: 1Zaf48jT6RVJcteVKBkGLwRHRocnLiZZA\n",
            "title: mta_trips.csv, id: 1h6cnlLbyS9oDkQxd0QITuDSfz2N2vkie\n",
            "title: green_trips.csv, id: 1wB5xKwU3P7-ZdeXud6IXU54HUGInp7e_\n",
            "title: yellow_trips.csv, id: 17PQgtknZXYTr52ifT4aST-Ak-fJ-cwvB\n",
            "title: uber_trips_2014.csv, id: 1o9mGz9bSdFhcblfsnAHs3zBkI_2jyYBh\n",
            "title: uber_trips_2015.csv, id: 1yX88JyAU3v8fy4yXXS4JTuVla2vWD1yW\n"
          ],
          "name": "stdout"
        }
      ]
    },
    {
      "cell_type": "code",
      "metadata": {
        "id": "Di16W64MtI4i",
        "colab_type": "code",
        "colab": {}
      },
      "source": [
        "mta_trips = pd.read_csv('mta_trips.csv')\n",
        "uber_15 = pd.read_csv(\"uber_trips_2015.csv\")\n",
        "zones = pd.read_csv(\"zones.csv\")\n",
        "geographic = pd.read_csv(\"geographic.csv\")\n",
        "uber_14 = pd.read_csv(\"uber_trips_2014.csv\")\n",
        "weather = pd.read_csv(\"weather.csv\")\n",
        "demographics = pd.read_csv(\"demographics.csv\")"
      ],
      "execution_count": 0,
      "outputs": []
    },
    {
      "cell_type": "markdown",
      "metadata": {
        "id": "WbmlVAhrpPVp",
        "colab_type": "text"
      },
      "source": [
        "# Cleaning geographic dataframe"
      ]
    },
    {
      "cell_type": "code",
      "metadata": {
        "id": "dUQLUpPWPJLW",
        "colab_type": "code",
        "colab": {}
      },
      "source": [
        "numrows = geographic.shape[0]\n",
        "numobvs = int(numrows / 2)\n",
        "s = ['long', 'lat']\n",
        "llcolumn = s*numobvs\n",
        "len(llcolumn)\n",
        "\n",
        "new_geographic = geographic.assign(LL= llcolumn)\n",
        "geo_melt = new_geographic.melt(id_vars=['LL'])\n",
        "\n",
        "numobvs2 = int(geographic.shape[0]*geographic.shape[1] / 2) \n",
        "\n",
        "obvslist = [item for item in range(numobvs2) for i in [0,1]]\n",
        "\n",
        "new_geo_melt = geo_melt.assign(vertexNumber= obvslist)\n",
        "new_geo_melt.columns = [\"LL\", \"NTA\", \"value\", \"vertexNumber\"]\n",
        "\n",
        "geographic_clean = new_geo_melt.pivot_table('value', ['vertexNumber', \"NTA\"], 'LL') \n",
        "geographic_clean.head()\n"
      ],
      "execution_count": 0,
      "outputs": []
    },
    {
      "cell_type": "code",
      "metadata": {
        "id": "0vh4rGXgbNsV",
        "colab_type": "code",
        "colab": {}
      },
      "source": [
        "# Madison working on identifying NTA given (lat, long)\n",
        "\n",
        "nta_min_max = geographic_clean.groupby(\"NTA\").agg({\"lat\": [\"min\", \"max\"], \"long\":[\"min\",\"max\"]})\n",
        "                          \n",
        "nta_min_max.columns = [\"latmin\", \"latmax\", \"longmin\", \"longmax\"]\n",
        "                                                   \n",
        "# nta_min_max\n",
        "\n",
        "mylat = 40.689136\n",
        "mylong = -100\n",
        "\n",
        "\n",
        "\n",
        "# nta_min_max.loc[(nta_min_max['latmin'] < mylat) & (nta_min_max['latmax'] > mylat) & (nta_min_max['longmin'] < mylong) & (nta_min_max['longmax'] > mylong)]\n",
        "\n",
        "def getNTAfromLatLong(nta_min_max, mylat, mylong):\n",
        "  result = nta_min_max.loc[(nta_min_max['latmin'] < mylat) & (nta_min_max['latmax'] > mylat) & (nta_min_max['longmin'] < mylong) & (nta_min_max['longmax'] > mylong)].index.values\n",
        "  if result.shape[0]<1:\n",
        "    return np.nan\n",
        "  else:\n",
        "    return result[0]\n",
        "  \n",
        "getNTAfromLatLong(nta_min_max, 40.689136, -74.001795)\n",
        "\n",
        "\n",
        "getNTAfromLatLong(nta_min_max, mylat, mylong)\n",
        "\n",
        "\n"
      ],
      "execution_count": 0,
      "outputs": []
    },
    {
      "cell_type": "markdown",
      "metadata": {
        "id": "e_m58Ip9t53U",
        "colab_type": "text"
      },
      "source": [
        "# Adding NTA to Uber 2015"
      ]
    },
    {
      "cell_type": "code",
      "metadata": {
        "id": "bN6ElIWbr64k",
        "colab_type": "code",
        "colab": {}
      },
      "source": [
        "uber_2015 = uber_15.merge(zones, how = \"left\", left_on = \"pickup_location_id\", right_on = \"location_id\")\n",
        "uber_2015.head()"
      ],
      "execution_count": 0,
      "outputs": []
    },
    {
      "cell_type": "code",
      "metadata": {
        "id": "aN1qonwg4Wzw",
        "colab_type": "code",
        "colab": {}
      },
      "source": [
        "uber_2015new = uber_2015.merge(demographics, how = \"left\", left_on = \"nta_code\", right_on = \"nta_code\")"
      ],
      "execution_count": 0,
      "outputs": []
    },
    {
      "cell_type": "code",
      "metadata": {
        "id": "yKhCZZB26U1g",
        "colab_type": "code",
        "colab": {}
      },
      "source": [
        "nta1 = uber_2015new.groupby('nta_name')[\"pickup_datetime\"].count().rename(\"trips\").reset_index()"
      ],
      "execution_count": 0,
      "outputs": []
    },
    {
      "cell_type": "code",
      "metadata": {
        "id": "TIQ73rCu6dbE",
        "colab_type": "code",
        "colab": {}
      },
      "source": [
        "demo = demographics.merge(nta1, how = \"left\", left_on = \"nta_name\", right_on = \"nta_name\")"
      ],
      "execution_count": 0,
      "outputs": []
    },
    {
      "cell_type": "code",
      "metadata": {
        "id": "jMeDM-uR6dyh",
        "colab_type": "code",
        "colab": {}
      },
      "source": [
        "demo"
      ],
      "execution_count": 0,
      "outputs": []
    },
    {
      "cell_type": "code",
      "metadata": {
        "id": "Qq58ZYgn65y6",
        "colab_type": "code",
        "colab": {}
      },
      "source": [
        "#mask = (demo['median_income'] > 100000)\n",
        "#high_income = demo[mask]"
      ],
      "execution_count": 0,
      "outputs": []
    },
    {
      "cell_type": "code",
      "metadata": {
        "id": "4yzzr4RNuQE_",
        "colab_type": "code",
        "colab": {}
      },
      "source": [
        "#uber_14.head()"
      ],
      "execution_count": 0,
      "outputs": []
    },
    {
      "cell_type": "code",
      "metadata": {
        "id": "MwdOvkzQuLl5",
        "colab_type": "code",
        "colab": {}
      },
      "source": [
        "#uber_14['NTA'] = uber_14.apply(lambda x: getNTAfromLatLong(nta_min_max, x['pickup_latitude'], x['pickup_longitude']), axis=1)\n",
        "\n",
        "#uber_14.isna().any()"
      ],
      "execution_count": 0,
      "outputs": []
    },
    {
      "cell_type": "code",
      "metadata": {
        "id": "tF9sIpWa0BkI",
        "colab_type": "code",
        "colab": {}
      },
      "source": [
        "#uber_14.columns"
      ],
      "execution_count": 0,
      "outputs": []
    },
    {
      "cell_type": "code",
      "metadata": {
        "id": "uWO2_gGr4LEj",
        "colab_type": "code",
        "colab": {}
      },
      "source": [
        ""
      ],
      "execution_count": 0,
      "outputs": []
    },
    {
      "cell_type": "markdown",
      "metadata": {
        "id": "sAha6LnNuAdA",
        "colab_type": "text"
      },
      "source": [
        "# Misc "
      ]
    },
    {
      "cell_type": "code",
      "metadata": {
        "id": "hyTyFI5iy1aj",
        "colab_type": "code",
        "colab": {}
      },
      "source": [
        "# testing try again to see if it refreshes"
      ],
      "execution_count": 0,
      "outputs": []
    },
    {
      "cell_type": "code",
      "metadata": {
        "id": "7APJtop81RUn",
        "colab_type": "code",
        "colab": {}
      },
      "source": [
        "geographic.dropna()\n",
        "polygons = geographic.to_dict('list')\n",
        "\n",
        "import numbers\n",
        "\n",
        "for k, v in polygons.items():\n",
        "    polygons[k] = [i for i in v if str(i) != 'nan']\n",
        "\n",
        "for key in polygons:\n",
        "    it = iter(polygons[key])\n",
        "    tuples = list(zip(it, it))\n",
        "    polygons.update({key: tuples})\n",
        "    \n",
        "print(polygons['QN29'])"
      ],
      "execution_count": 0,
      "outputs": []
    },
    {
      "cell_type": "code",
      "metadata": {
        "id": "m920q2Wl0nLp",
        "colab_type": "code",
        "colab": {}
      },
      "source": [
        "# Testing Even-Odd Rule for polygon problem\n",
        "\n",
        "def is_point_in_path(x, y, poly):\n",
        "    \"\"\"\n",
        "    x, y -- x and y coordinates of point\n",
        "    poly -- a list of tuples [(x, y), (x, y), ...]\n",
        "    \"\"\"\n",
        "    num = len(poly)\n",
        "    i = 0\n",
        "    j = num - 1\n",
        "    c = False\n",
        "    for i in range(num):\n",
        "        if ((poly[i][1] > y) != (poly[j][1] > y)) and \\\n",
        "                (x < poly[i][0] + (poly[j][0] - poly[i][0]) * (y - poly[i][1]) /\n",
        "                                  (poly[j][1] - poly[i][1])):\n",
        "            c = not c\n",
        "        j = i\n",
        "    return c"
      ],
      "execution_count": 0,
      "outputs": []
    },
    {
      "cell_type": "code",
      "metadata": {
        "id": "FYUAtfcj2982",
        "colab_type": "code",
        "colab": {}
      },
      "source": [
        "sample = uber_14.head(10)\n",
        "\n",
        "nta_code = []\n",
        "for idx,row in sample.iterrows():\n",
        "    x = row[\"pickup_longitude\"]\n",
        "    y = row[\"pickup_latitude\"]\n",
        "    #print(idx,x,y)\n",
        "    for poly in polygons:\n",
        "        nta = 0\n",
        "        lat_long_check = is_point_in_path(x, y, polygons[poly])\n",
        "        #print(lat_long_check)\n",
        "        if lat_long_check != False: #WHY IS EVERYTHING FALSE?\n",
        "            nta = poly\n",
        "    nta_code.append(nta)\n",
        "\n",
        "sample[\"nta_code\"] = nta_code\n",
        "sample"
      ],
      "execution_count": 0,
      "outputs": []
    },
    {
      "cell_type": "code",
      "metadata": {
        "id": "_DDq0tPHM-Bk",
        "colab_type": "code",
        "colab": {}
      },
      "source": [
        "uber_2015.tail()"
      ],
      "execution_count": 0,
      "outputs": []
    },
    {
      "cell_type": "code",
      "metadata": {
        "id": "UMSexGQiM_k2",
        "colab_type": "code",
        "colab": {}
      },
      "source": [
        "numrows = geographic.shape[1]\n",
        "numobvs = numrows / 2\n",
        "s = pd.Series(['long', 'lat'])\n",
        "llcolumn = s.repeat(numobvs)\n",
        "new_geographic = geographic.assign(address = ['Delhi', 'Bangalore', 'Chennai', 'Patna']) "
      ],
      "execution_count": 0,
      "outputs": []
    },
    {
      "cell_type": "markdown",
      "metadata": {
        "id": "WUcq4w0yfYM0",
        "colab_type": "text"
      },
      "source": [
        "# Adding NTA codes to MTA data"
      ]
    },
    {
      "cell_type": "code",
      "metadata": {
        "id": "imd2L7brWxOE",
        "colab_type": "code",
        "colab": {}
      },
      "source": [
        "mta_trips.head()"
      ],
      "execution_count": 0,
      "outputs": []
    },
    {
      "cell_type": "code",
      "metadata": {
        "id": "GmACF_CNVXhx",
        "colab_type": "code",
        "colab": {}
      },
      "source": [
        "mta_station = mta_trips.groupby(by = \"station\").first()\n",
        "\n",
        "#len(mta_trips[\"station\"].unique()) #Should have 345 unique lat, long pairs \n",
        "\n",
        "mta_station.head()"
      ],
      "execution_count": 0,
      "outputs": []
    },
    {
      "cell_type": "code",
      "metadata": {
        "id": "C9xLWUVvVYqt",
        "colab_type": "code",
        "colab": {}
      },
      "source": [
        "getNTAfromLatLong(nta_min_max, 40.800605, -73.958158)"
      ],
      "execution_count": 0,
      "outputs": []
    },
    {
      "cell_type": "code",
      "metadata": {
        "id": "_DU-G1QwonhQ",
        "colab_type": "code",
        "colab": {}
      },
      "source": [
        "mta_station.dtypes"
      ],
      "execution_count": 0,
      "outputs": []
    },
    {
      "cell_type": "code",
      "metadata": {
        "id": "PSM7pY2doBDL",
        "colab_type": "code",
        "colab": {}
      },
      "source": [
        "mta_station['NTA'] = mta_station.apply(lambda x: getNTAfromLatLong(nta_min_max, x['latitude'], x['longitude']), axis=1)\n",
        "\n",
        "mta_station.isna().any()"
      ],
      "execution_count": 0,
      "outputs": []
    },
    {
      "cell_type": "code",
      "metadata": {
        "id": "SmDet7zoqu3h",
        "colab_type": "code",
        "colab": {}
      },
      "source": [
        "np.sum(mta_station[\"NTA\"].isna().values)"
      ],
      "execution_count": 0,
      "outputs": []
    },
    {
      "cell_type": "code",
      "metadata": {
        "id": "KyFBkNL_x6RZ",
        "colab_type": "code",
        "colab": {}
      },
      "source": [
        "mta_withNTA = mta_trips.merge(mta_station[\"NTA\"], how = \"left\", left_on = \"station\", right_on = mta_station.index)"
      ],
      "execution_count": 0,
      "outputs": []
    },
    {
      "cell_type": "code",
      "metadata": {
        "id": "9SQnX-PEVVQn",
        "colab_type": "code",
        "colab": {}
      },
      "source": [
        "mta_withNTA.tail()"
      ],
      "execution_count": 0,
      "outputs": []
    },
    {
      "cell_type": "markdown",
      "metadata": {
        "id": "AsfNDoQG2g4t",
        "colab_type": "text"
      },
      "source": [
        "# Uber and MTA Demographics"
      ]
    },
    {
      "cell_type": "code",
      "metadata": {
        "id": "NqLI-TKD2nUg",
        "colab_type": "code",
        "colab": {
          "base_uri": "https://localhost:8080/",
          "height": 1000
        },
        "outputId": "2b48b6c6-e834-419c-e7b7-3058b214b5f7"
      },
      "source": [
        "demo_sorted = demo.sort_values(by=['people_per_acre'], ascending=False)\n",
        "demo_sorted\n",
        "demo_sorted[\"tripsperperson\"] = demo_sorted[\"trips\"]/demo_sorted[\"population\"]\n",
        "\n",
        "# xx = demo_sorted.head(5).plot.bar(x='nta_name', y='trips', rot=90)\n",
        "# sns.barplot(x=\"nta_name\", y=\"trips\", data=demo_sorted.head(10))\n",
        "\n",
        "# todo: trips per person in the graph instead DONE!\n",
        "\n",
        "# todo: linear regression correlation income and trips per person\n",
        "\n",
        "# demo_sorted.head()\n",
        "\n",
        "\n",
        "import statsmodels.formula.api as sm\n",
        "\n",
        "\n",
        "result = sm.ols(formula=\"trips ~ people_per_acre + median_age + median_income\", data=demo_sorted).fit()\n",
        "result.params\n",
        "print(result.summary())\n",
        "demo_sorted.head()\n",
        "result.params\n",
        "\n",
        "\n",
        "demo_sorted = demo.sort_values(by=['trips'], ascending=False)\n",
        "g = sns.barplot(x=\"nta_name\", y=\"median_income\", data=demo_sorted.head(20))\n",
        "plt.xticks(rotation=90)\n",
        "plt.title(\"Median Income Levels of Neighborhoods with Most Originating Uber Rides\")\n",
        "ylabels = ['{:,.0f}'.format(y) + 'K' for y in g.get_yticks()/1000]\n",
        "g.set_yticklabels(ylabels)\n",
        "plt.savefig('uberdemo1.png')\n",
        "\n",
        "# demo_sorted.head(10)\n",
        "\n",
        "# demo_sorted = demo.sort_values(by=['trips'], ascending=True)\n",
        "# g = sns.barplot(x=\"nta_name\", y=\"median_income\", data=demo_sorted.head(10))\n",
        "# plt.xticks(rotation=90)\n",
        "# demo_sorted.head(10)\n"
      ],
      "execution_count": 108,
      "outputs": [
        {
          "output_type": "stream",
          "text": [
            "                            OLS Regression Results                            \n",
            "==============================================================================\n",
            "Dep. Variable:                  trips   R-squared:                       0.374\n",
            "Model:                            OLS   Adj. R-squared:                  0.364\n",
            "Method:                 Least Squares   F-statistic:                     36.10\n",
            "Date:                Wed, 23 Oct 2019   Prob (F-statistic):           2.45e-18\n",
            "Time:                        20:43:56   Log-Likelihood:                -2490.1\n",
            "No. Observations:                 185   AIC:                             4988.\n",
            "Df Residuals:                     181   BIC:                             5001.\n",
            "Df Model:                           3                                         \n",
            "Covariance Type:            nonrobust                                         \n",
            "===================================================================================\n",
            "                      coef    std err          t      P>|t|      [0.025      0.975]\n",
            "-----------------------------------------------------------------------------------\n",
            "Intercept        8.027e+04   1.16e+05      0.694      0.488   -1.48e+05    3.08e+05\n",
            "people_per_acre  1039.1688    308.864      3.364      0.001     429.731    1648.606\n",
            "median_age      -1.124e+04   3265.658     -3.442      0.001   -1.77e+04   -4796.334\n",
            "median_income       5.7267      0.600      9.550      0.000       4.543       6.910\n",
            "==============================================================================\n",
            "Omnibus:                      226.952   Durbin-Watson:                   2.058\n",
            "Prob(Omnibus):                  0.000   Jarque-Bera (JB):            10133.368\n",
            "Skew:                           4.990   Prob(JB):                         0.00\n",
            "Kurtosis:                      37.857   Cond. No.                     5.69e+05\n",
            "==============================================================================\n",
            "\n",
            "Warnings:\n",
            "[1] Standard Errors assume that the covariance matrix of the errors is correctly specified.\n",
            "[2] The condition number is large, 5.69e+05. This might indicate that there are\n",
            "strong multicollinearity or other numerical problems.\n"
          ],
          "name": "stdout"
        },
        {
          "output_type": "display_data",
          "data": {
            "image/png": "[encoded data removed]",
            "text/plain": [
              "<Figure size 432x288 with 1 Axes>"
            ]
          },
          "metadata": {
            "tags": []
          }
        }
      ]
    },
    {
      "cell_type": "code",
      "metadata": {
        "id": "D4VCQMqNWWUQ",
        "colab_type": "code",
        "colab": {
          "base_uri": "https://localhost:8080/",
          "height": 570
        },
        "outputId": "43982c41-19c5-4cb7-bbdf-15113087f99e"
      },
      "source": [
        "demo_sorted = demo.sort_values(by=['trips'], ascending=True)\n",
        "g = sns.barplot(x=\"nta_name\", y=\"median_income\", data=demo_sorted.head(20))\n",
        "plt.xticks(rotation=90)\n",
        "plt.title(\"Median Income Levels of Neighborhoods with Fewest Originating Uber Rides\")\n",
        "ylabels = ['{:,.0f}'.format(y) + 'K' for y in g.get_yticks()/1000]\n",
        "g.set_yticklabels(ylabels)\n",
        "plt.savefig('uberdemo2.png')"
      ],
      "execution_count": 109,
      "outputs": [
        {
          "output_type": "display_data",
          "data": {
            "image/png": "[encoded data removed]",
            "text/plain": [
              "<Figure size 432x288 with 1 Axes>"
            ]
          },
          "metadata": {
            "tags": []
          }
        }
      ]
    },
    {
      "cell_type": "code",
      "metadata": {
        "id": "a5PNOqPKjW5S",
        "colab_type": "code",
        "colab": {
          "base_uri": "https://localhost:8080/",
          "height": 34
        },
        "outputId": "9095f2c2-bc27-48d3-cd30-253b67251f62"
      },
      "source": [
        "#demographics.shape\n",
        "mta15demo.shape"
      ],
      "execution_count": 96,
      "outputs": [
        {
          "output_type": "execute_result",
          "data": {
            "text/plain": [
              "(97, 37)"
            ]
          },
          "metadata": {
            "tags": []
          },
          "execution_count": 96
        }
      ]
    },
    {
      "cell_type": "code",
      "metadata": {
        "id": "9xfcSn6EWVY5",
        "colab_type": "code",
        "colab": {}
      },
      "source": [
        ""
      ],
      "execution_count": 0,
      "outputs": []
    },
    {
      "cell_type": "code",
      "metadata": {
        "id": "RpbmAgc3jXEJ",
        "colab_type": "code",
        "colab": {}
      },
      "source": [
        "mta15demo.tail()"
      ],
      "execution_count": 0,
      "outputs": []
    },
    {
      "cell_type": "code",
      "metadata": {
        "id": "5_cuwSXZ2p5X",
        "colab_type": "code",
        "colab": {}
      },
      "source": [
        "demo_sorted = demo.sort_values(by=['median_income'], ascending=False)\n",
        "demo_sorted\n",
        "demo_sorted[\"tripsperperson\"] = demo_sorted[\"trips\"]/demo_sorted[\"population\"]\n",
        "\n",
        "xx = demo_sorted.head(5).plot.bar(x='nta_name', y='tripsperperson', rot=90)\n",
        "sns.barplot(x=\"nta_name\", y=\"tripsperperson\", data=demo_sorted.head(10))\n",
        "\n",
        "# todo: trips per person in the graph instead DONE!\n",
        "\n",
        "# todo: linear regression correlation income and trips per person\n",
        "\n",
        "# demo_sorted.head()\n",
        "\n",
        "\n",
        "import statsmodels.formula.api as sm\n",
        "\n",
        "result = sm.ols(formula=\"tripsperperson ~ median_income\", data=demo_sorted).fit()\n",
        "result.params\n",
        "print(result.summary())"
      ],
      "execution_count": 0,
      "outputs": []
    },
    {
      "cell_type": "code",
      "metadata": {
        "id": "s8aK5mwA2raf",
        "colab_type": "code",
        "colab": {}
      },
      "source": [
        "demo_sorted = demo.sort_values(by=['median_age'], ascending=True)\n",
        "demo_sorted\n",
        "demo_sorted[\"tripsperperson\"] = demo_sorted[\"trips\"]/demo_sorted[\"population\"]\n",
        "\n",
        "xx = demo_sorted.head(5).plot.bar(x='nta_name', y='tripsperperson', rot=90)\n",
        "sns.barplot(x=\"nta_name\", y=\"tripsperperson\", data=demo_sorted.head(10))\n",
        "\n",
        "# todo: trips per person in the graph instead DONE!\n",
        "\n",
        "# todo: linear regression correlation income and trips per person\n",
        "\n",
        "# demo_sorted.head()\n",
        "\n",
        "\n",
        "import statsmodels.formula.api as sm\n",
        "\n",
        "result = sm.ols(formula=\"tripsperperson ~ median_age + median_income\", data=demo_sorted).fit()\n",
        "result.params\n",
        "print(result.summary())\n",
        "\n",
        "\n",
        "result = sm.ols(formula=\"trips ~ median_age + median_income\", data=demo_sorted).fit()\n",
        "result.params\n",
        "print(result.summary())\n",
        "result.params\n"
      ],
      "execution_count": 0,
      "outputs": []
    },
    {
      "cell_type": "code",
      "metadata": {
        "id": "npVU5t7KMSNO",
        "colab_type": "code",
        "colab": {}
      },
      "source": [
        "mta15demo.columns"
      ],
      "execution_count": 0,
      "outputs": []
    },
    {
      "cell_type": "code",
      "metadata": {
        "id": "ct_7XpZDDcQw",
        "colab_type": "code",
        "colab": {}
      },
      "source": [
        ""
      ],
      "execution_count": 0,
      "outputs": []
    },
    {
      "cell_type": "code",
      "metadata": {
        "id": "3oUNb6s3Dcd3",
        "colab_type": "code",
        "colab": {}
      },
      "source": [
        ""
      ],
      "execution_count": 0,
      "outputs": []
    },
    {
      "cell_type": "code",
      "metadata": {
        "id": "69BhKqFpDcl0",
        "colab_type": "code",
        "colab": {}
      },
      "source": [
        ""
      ],
      "execution_count": 0,
      "outputs": []
    },
    {
      "cell_type": "code",
      "metadata": {
        "id": "Zo1RQlmuDco5",
        "colab_type": "code",
        "colab": {}
      },
      "source": [
        ""
      ],
      "execution_count": 0,
      "outputs": []
    },
    {
      "cell_type": "markdown",
      "metadata": {
        "id": "ePTmtUrM9lwg",
        "colab_type": "text"
      },
      "source": [
        "# MTA data"
      ]
    },
    {
      "cell_type": "code",
      "metadata": {
        "id": "w595Jixr9n6E",
        "colab_type": "code",
        "colab": {}
      },
      "source": [
        "#mta_withNTA[\"year\"] = \n",
        "mta_withNTA[\"datetime\"].dtype"
      ],
      "execution_count": 0,
      "outputs": []
    },
    {
      "cell_type": "code",
      "metadata": {
        "id": "9zNfxcrUT6JH",
        "colab_type": "code",
        "colab": {}
      },
      "source": [
        "#NTA analysis for MTA \n",
        "\n",
        "mta_withNTA.groupby(\"NTA\")"
      ],
      "execution_count": 0,
      "outputs": []
    },
    {
      "cell_type": "code",
      "metadata": {
        "id": "5i-Qesx3bsiy",
        "colab_type": "code",
        "colab": {}
      },
      "source": [
        "#uber_15 = pd.read_csv(\"uber_trips_2015.csv\")\n",
        "uber_2015.head()\n",
        "\n",
        "date = []\n",
        "hour = []\n",
        "for i in uber_2015[\"pickup_datetime\"]:\n",
        "  s = str(i).split()\n",
        "  date.append(s[0])\n",
        "  hour.append(s[1])\n",
        "  \n",
        "uber_2015[\"date\"] = date\n",
        "uber_2015[\"hour\"] = hour"
      ],
      "execution_count": 0,
      "outputs": []
    },
    {
      "cell_type": "code",
      "metadata": {
        "id": "MkUAXklvuTYB",
        "colab_type": "code",
        "colab": {}
      },
      "source": [
        "month = []\n",
        "day = []\n",
        "year = []\n",
        "for i in uber_2015[\"date\"]:\n",
        "  \n",
        "  s = str(i).split(\"-\")\n",
        "  year.append(s[0])\n",
        "  month.append(s[1])\n",
        "  day.append(s[2])\n",
        "  \n",
        "uber_2015[\"month\"] = month\n",
        "uber_2015[\"day\"] = day\n",
        "uber_2015[\"year\"] = year"
      ],
      "execution_count": 0,
      "outputs": []
    },
    {
      "cell_type": "code",
      "metadata": {
        "id": "68GqfwCiudHa",
        "colab_type": "code",
        "colab": {}
      },
      "source": [
        "uber_2015.head()"
      ],
      "execution_count": 0,
      "outputs": []
    },
    {
      "cell_type": "code",
      "metadata": {
        "id": "SCqL3d7fhu59",
        "colab_type": "code",
        "colab": {}
      },
      "source": [
        "#month = []\n",
        "#day = []\n",
        "#year = []\n",
        "date = []\n",
        "hour = []\n",
        "for i in mta_withNTA[\"datetime\"]:\n",
        "  s = str(i).split()\n",
        "  date.append(s[0])\n",
        "  hour.append(s[1])\n",
        "  \n",
        "mta_withNTA[\"date\"] = date\n",
        "mta_withNTA[\"hour\"] = hour"
      ],
      "execution_count": 0,
      "outputs": []
    },
    {
      "cell_type": "code",
      "metadata": {
        "id": "RBZ7gjE6j4km",
        "colab_type": "code",
        "colab": {}
      },
      "source": [
        "month = []\n",
        "day = []\n",
        "year = []\n",
        "for i in mta_withNTA[\"date\"]:\n",
        "  s = str(i).split(\"/\")\n",
        "  month.append(s[0])\n",
        "  day.append(s[1])\n",
        "  year.append(s[2])\n",
        "  \n",
        "mta_withNTA[\"month\"] = month\n",
        "mta_withNTA[\"day\"] = day\n",
        "mta_withNTA[\"year\"] = year"
      ],
      "execution_count": 0,
      "outputs": []
    },
    {
      "cell_type": "code",
      "metadata": {
        "id": "jOFsl1NegC3h",
        "colab_type": "code",
        "colab": {}
      },
      "source": [
        "is_2015 = mta_withNTA[\"year\"] == '2015'\n",
        "mta_2015 = mta_withNTA[is_2015]\n",
        "mta_2015.head()\n",
        "\n",
        "#mta_withNTA.head()"
      ],
      "execution_count": 0,
      "outputs": []
    },
    {
      "cell_type": "code",
      "metadata": {
        "id": "tc5PMDeqkzwM",
        "colab_type": "code",
        "colab": {}
      },
      "source": [
        "#is_2014 = mta_withNTA[\"year\"] == '2014'\n",
        "#mta_2014 = mta_withNTA[is_2014]\n",
        "#mta_2014.head()\n",
        "\n",
        "#mta_2014.to_csv('mta_2014.csv')\n",
        "#from google.colab import files\n",
        "#files.download('mta_2014.csv') \n",
        "\n",
        "mta_2015.to_csv('mta_2015.csv')\n",
        "from google.colab import files\n",
        "files.download('mta_2015.csv') "
      ],
      "execution_count": 0,
      "outputs": []
    },
    {
      "cell_type": "code",
      "metadata": {
        "id": "uLM8K9BVvP_t",
        "colab_type": "code",
        "colab": {}
      },
      "source": [
        "#proportion of rows \"lost\"\n",
        "(mta_withNTA.shape[0] - mta_2015.shape[0]) / mta_withNTA.shape[0] \n",
        "mta_2015[\"new_entries\"].describe()\n",
        "\n",
        "sub_2015 = mta_2015.groupby([\"station\",\"date\"]).sum() #Get total entries per date for each station\n",
        "\n",
        "#sub_2015 = sub_2015.merge(mta_station[\"NTA\"], how = \"left\", left_on = \"station\", right_on = mta_station.index)\n",
        "sub_2015.head()\n",
        "\n",
        "#How many subway stations for each NTA? \n",
        "\n",
        "uberrides_perNTA = uber_2015.groupby(\"nta_code\")[\"nta_code\"].count()\n",
        "\n",
        "np.sum(subways_perNTA)\n",
        "\n",
        "#Yearly analysis of entries \n",
        "\n",
        "mta_peryear = mta_2015.groupby([\"station\", \"year\"]).sum()\n",
        "mta_peryear = mta_peryear.merge(mta_station[\"NTA\"], how = \"left\", left_on = \"station\", right_on = mta_station.index)\n",
        "\n",
        "#How many entries per NTA?\n",
        "\n",
        "total_entries = mta_peryear.groupby(\"NTA\").sum()\n",
        "\n",
        "total_entries.head()\n",
        "\n",
        "total_entries[\"new_entries\"].describe()"
      ],
      "execution_count": 0,
      "outputs": []
    },
    {
      "cell_type": "code",
      "metadata": {
        "id": "C-lIP27kvQwD",
        "colab_type": "code",
        "colab": {}
      },
      "source": [
        "# same but for uber 2015\n",
        "\n",
        "rides_by_nta = uber_2015[[\"nta_code\",\"date\"]].groupby([\"nta_code\"])[\"date\"].count().sort_values(ascending=False)\n",
        "top_nta_uber = rides_by_nta.head(10)\n",
        "\n",
        "#uber10_withinfo = top_nta_uber.merge(demographics, how = \"left\", left_on = \"nta_code\", right_on = \"nta_code\")\n",
        "\n",
        "uber_ntas = top_nta_uber[\"nta_code\"]\n",
        "uber_rides = top_nta_uber[\"new_entries\"]\n",
        "\n",
        "plt.barh(uber_ntas, uber_rides, align='center', alpha=0.5)\n",
        "plt.xlabel('Uber rides per year (in hundred millions)')\n",
        "plt.ylabel(\"NTA\")\n",
        "plt.title('NTAs with the most uber rides per year')\n",
        "\n",
        "plt.show()"
      ],
      "execution_count": 0,
      "outputs": []
    },
    {
      "cell_type": "code",
      "metadata": {
        "id": "KWItqyd1zXZl",
        "colab_type": "code",
        "colab": {}
      },
      "source": [
        "sorted_TE = total_entries.sort_values(\"new_entries\").tail(10)\n",
        "\n",
        "top10_withinfo = sorted_TE.merge(demographics, how = \"left\", left_on = sorted_TE.index, right_on = \"nta_code\")\n"
      ],
      "execution_count": 0,
      "outputs": []
    },
    {
      "cell_type": "code",
      "metadata": {
        "id": "QkCCmuWYzdoe",
        "colab_type": "code",
        "colab": {}
      },
      "source": [
        "ntas = top10_withinfo[\"nta_name\"]\n",
        "new_entries = top10_withinfo[\"new_entries\"]\n",
        "\n",
        "plt.barh(ntas, new_entries, align='center', alpha=0.5)\n",
        "plt.xlabel('Subway entries per year (in hundred millions)')\n",
        "plt.ylabel(\"NTA\")\n",
        "plt.title('NTAs with the most subway entries per year')\n",
        "\n",
        "plt.show()"
      ],
      "execution_count": 0,
      "outputs": []
    },
    {
      "cell_type": "code",
      "metadata": {
        "id": "rnc87iGSzfce",
        "colab_type": "code",
        "colab": {}
      },
      "source": [
        "mta_new = mta_withNTA.merge(demographics, how = \"left\", left_on = \"NTA\", right_on = \"nta_code\")\n",
        "nta2 = mta_new.groupby('nta_name')[\"datetime_y\"].count().rename(\"mta_trips\").reset_index()"
      ],
      "execution_count": 0,
      "outputs": []
    },
    {
      "cell_type": "code",
      "metadata": {
        "id": "_lp3yiYo4f_6",
        "colab_type": "code",
        "colab": {}
      },
      "source": [
        ""
      ],
      "execution_count": 0,
      "outputs": []
    },
    {
      "cell_type": "markdown",
      "metadata": {
        "id": "WgJLHMzs4hUW",
        "colab_type": "text"
      },
      "source": [
        "# Adding demographics to MTA 2015"
      ]
    },
    {
      "cell_type": "code",
      "metadata": {
        "id": "_dj--FHa4lH2",
        "colab_type": "code",
        "colab": {}
      },
      "source": [
        "mta_peryear = mta_2015.groupby([\"station\", \"year\"]).sum()\n",
        "mta_peryear_2 = mta_peryear.merge(mta_station[\"NTA\"], how = \"left\", left_on = \"station\", right_on = mta_station.index)\n",
        "\n",
        "#How many entries per NTA?\n",
        "\n",
        "total_entries = mta_peryear_2.groupby(\"NTA\").sum()\n",
        "\n",
        "mta15demo = total_entries.merge(demographics, how = \"left\", left_on = \"NTA\", right_on = \"nta_code\")\n",
        "\n",
        "mta15demo.columns"
      ],
      "execution_count": 0,
      "outputs": []
    },
    {
      "cell_type": "code",
      "metadata": {
        "id": "SxvVfoUO464g",
        "colab_type": "code",
        "colab": {}
      },
      "source": [
        "mta15demo.head()"
      ],
      "execution_count": 0,
      "outputs": []
    },
    {
      "cell_type": "markdown",
      "metadata": {
        "id": "ZvqofYaPH-Kd",
        "colab_type": "text"
      },
      "source": [
        "# Time Analysis"
      ]
    },
    {
      "cell_type": "code",
      "metadata": {
        "id": "BKydo-x8IBwD",
        "colab_type": "code",
        "colab": {}
      },
      "source": [
        "# group MTA by month of year\n",
        "mta_2015.head()\n",
        "print(mta_2015.columns)\n",
        "newentries_perNTApermonth = mta_2015.groupby([\"NTA\", \"month\"]).agg({\"new_entries\": [\"sum\"]})\n",
        "newentries_perNTApermonth\n"
      ],
      "execution_count": 0,
      "outputs": []
    },
    {
      "cell_type": "code",
      "metadata": {
        "id": "hgOPj9GLMxav",
        "colab_type": "code",
        "colab": {}
      },
      "source": [
        "\n",
        "#also group uber by month of yaer\n",
        "uber_2015.head()\n",
        "uber_withNTA_15only = uber_2015.query(\"year == '2015'\")\n",
        "uber_withNTA_15only = uber_withNTA_15only.dropna(subset=[\"nta_code\"])\n",
        "# uber_withNTA_15only.head()\n",
        "print(uber_withNTA_15only.columns)\n",
        "rides_perNTApermonth = uber_withNTA_15only.groupby([\"nta_code\", \"month\"]).agg({\"pickup_datetime\": [\"count\"]})"
      ],
      "execution_count": 0,
      "outputs": []
    },
    {
      "cell_type": "code",
      "metadata": {
        "id": "YnuC-o6uOFU5",
        "colab_type": "code",
        "colab": {}
      },
      "source": [
        "uberbymonth = rides_perNTApermonth.reset_index()\n",
        "uberbymonth.columns = [\"NTA\", \"Month\", \"Uber\"]\n",
        "uberbymonth\n",
        "mtabymonth = newentries_perNTApermonth.reset_index()\n",
        "mtabymonth.columns = [\"NTA\", \"Month\", \"MTA\"]\n",
        "mtabymonth\n",
        "\n",
        "# join all \n",
        "bymonth = uberbymonth.merge(mtabymonth, how = \"outer\", left_on = [\"NTA\", \"Month\"], right_on = [\"NTA\", \"Month\"])\n",
        "# set NAN to 0, assume no rides happened if they weren't recorded \n",
        "bymonth = bymonth.fillna(0)\n",
        "bymonth\n",
        "\n",
        "timeresult = sm.ols(formula=\"Uber ~ MTA\", data=bymonth).fit()\n",
        "print(timeresult.summary())\n",
        "timeresult.params\n"
      ],
      "execution_count": 0,
      "outputs": []
    },
    {
      "cell_type": "code",
      "metadata": {
        "id": "Top_yxxWPKtC",
        "colab_type": "code",
        "colab": {}
      },
      "source": [
        ""
      ],
      "execution_count": 0,
      "outputs": []
    }
  ]
}